{
 "cells": [
  {
   "cell_type": "code",
   "execution_count": 1,
   "metadata": {},
   "outputs": [],
   "source": [
    "import jsonlines"
   ]
  },
  {
   "cell_type": "code",
   "execution_count": 2,
   "metadata": {},
   "outputs": [],
   "source": [
    "category_mapping = {\n",
    "    \"SERVICE#HOSPITALITY\" : \"SERVICE#GENERAL\",\n",
    "    \"HOTEL#EXPERIENCE\" : \"EXPERIENCE,AMBIENCE\",\n",
    "    \"HOTEL#AMBIENCE\" : \"EXPERIENCE,AMBIENCE\",\n",
    "    \"FACILITY#EXPERIENCE\" : \"EXPERIENCE,AMBIENCE\",\n",
    "    \"ROOM#AMBIENCE\" : \"EXPERIENCE,AMBIENCE\",\n",
    "    \"ROOM#EXPERIENCE\" : \"EXPERIENCE,AMBIENCE\",\n",
    "    \"SERVICE#AMENITIES\" : \"SERVICE#GENERAL\",\n",
    "    \"SERVICE#ASSISTANCE\" : \"SERVICE#GENERAL\",\n",
    "}"
   ]
  },
  {
   "cell_type": "code",
   "execution_count": 3,
   "metadata": {},
   "outputs": [],
   "source": [
    "# Function to simplify categories\n",
    "def simplify_category(labels):\n",
    "    simplified_labels = []\n",
    "    for label in labels:\n",
    "        if label['category'] in category_mapping:\n",
    "            label['category'] = category_mapping[label['category']]\n",
    "        simplified_labels.append(label)\n",
    "    return simplified_labels\n",
    "\n",
    "# Input and output file paths\n",
    "input_file = 'single_sentences_hotel_ina.jsonl'\n",
    "output_file = 'single_sentences_hotel_ina_less_cat.jsonl'\n",
    "\n",
    "# Process each line in the input file and write to output file\n",
    "with jsonlines.open(output_file, mode='w') as writer:\n",
    "    with jsonlines.open(input_file) as reader:\n",
    "        for line in reader:\n",
    "            line['labels'] = simplify_category(line['labels'])\n",
    "            writer.write(line)"
   ]
  },
  {
   "cell_type": "code",
   "execution_count": null,
   "metadata": {},
   "outputs": [],
   "source": [
    "'single_sentences_hotel_ina.jsonl'"
   ]
  },
  {
   "cell_type": "markdown",
   "metadata": {},
   "source": []
  }
 ],
 "metadata": {
  "kernelspec": {
   "display_name": "env-absa",
   "language": "python",
   "name": "env-absa"
  },
  "language_info": {
   "codemirror_mode": {
    "name": "ipython",
    "version": 3
   },
   "file_extension": ".py",
   "mimetype": "text/x-python",
   "name": "python",
   "nbconvert_exporter": "python",
   "pygments_lexer": "ipython3",
   "version": "3.12.2"
  }
 },
 "nbformat": 4,
 "nbformat_minor": 2
}
