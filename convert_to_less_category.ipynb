{
 "cells": [
  {
   "cell_type": "code",
   "execution_count": 1,
   "metadata": {},
   "outputs": [],
   "source": [
    "import jsonlines"
   ]
  },
  {
   "cell_type": "code",
   "execution_count": null,
   "metadata": {},
   "outputs": [],
   "source": [
    "{\"text\": \"Beautiful , comfortable and friendly hotel near the beach .\", \"labels\": [{\"aspect\": \"hotel\", \"opinion\": \"friendly\", \"polarity\": \"POS\", \"category\": \"SERVICE#HOSPITALITY\"}, {\"aspect\": \"hotel\", \"opinion\": \"comfortable\", \"polarity\": \"POS\", \"category\": \"HOTEL#EXPERIENCE\"}, {\"aspect\": \"hotel\", \"opinion\": \"Beautiful\", \"polarity\": \"POS\", \"category\": \"HOTEL#AMBIENCE\"}]}\n",
    "{\"text\": \"Great value for the money .\", \"labels\": [{\"aspect\": \"money\", \"opinion\": \"Great value\", \"polarity\": \"POS\", \"category\": \"HOTEL#PRICE\"}]}\n",
    "{\"text\": \"Good situation , next to a big mall and the beach .\", \"labels\": [{\"aspect\": \"beach\", \"opinion\": \"next to\", \"polarity\": \"POS\", \"category\": \"LOCATION#ATTRACTIONS\"}, {\"aspect\": \"mall\", \"opinion\": \"next to\", \"polarity\": \"POS\", \"category\": \"LOCATION#ENTERTAINMENT\"}]}\n",
    "{\"text\": \"Rooms really comfortable , clean and no noisy .\", \"labels\": [{\"aspect\": \"Rooms\", \"opinion\": \"comfortable\", \"polarity\": \"POS\", \"category\": \"ROOM#EXPERIENCE\"}, {\"aspect\": \"Rooms\", \"opinion\": \"clean\", \"polarity\": \"POS\", \"category\": \"ROOM#CLEANLINESS\"}, {\"aspect\": \"Rooms\", \"opinion\": \"no noisy\", \"polarity\": \"POS\", \"category\": \"ROOM#AMBIENCE\"}]}\n",
    "{\"text\": \"Wifi excellent .\", \"labels\": [{\"aspect\": \"Wifi\", \"opinion\": \"excellent\", \"polarity\": \"POS\", \"category\": \"FACILITY#WIFI\"}]}\n",
    "{\"text\": \"Room veeeeery big , comfortable big bed , hot shower , lush garden , pool and breakfast for 130k IDR in high season : what U want more ? Ok , no towel or sheet but .\", \"labels\": [{\"aspect\": \"bed\", \"opinion\": \"comfortable\", \"polarity\": \"POS\", \"category\": \"ROOM#BED\"}, {\"aspect\": \"shower\", \"opinion\": \"hot\", \"polarity\": \"NEU\", \"category\": \"ROOM#BATHROOM\"}, {\"aspect\": \"garden\", \"opinion\": \"lush\", \"polarity\": \"POS\", \"category\": \"FACILITY#GENERAL\"}, {\"aspect\": \"Room\", \"opinion\": \"big\", \"polarity\": \"POS\", \"category\": \"ROOM#SPACE\"}, {\"aspect\": \"no towel\", \"opinion\": \"Ok\", \"polarity\": \"NEU\", \"category\": \"FACILITY#GENERAL\"}, {\"aspect\": \"pool\", \"opinion\": \"130k IDR in high season\", \"polarity\": \"POS\", \"category\": \"FACILITY#POOL\"}, {\"aspect\": \"breakfast\", \"opinion\": \"130k IDR in high season\", \"polarity\": \"POS\", \"category\": \"HOTEL#PRICE\"}]}\n",
    "{\"text\": \"room without power plug point , hair dryer , water boiler , safe box and even tissue .\", \"labels\": [{\"aspect\": \"room\", \"opinion\": \"power plug point\", \"polarity\": \"NEG\", \"category\": \"FACILITY#GENERAL\"}, {\"aspect\": \"room\", \"opinion\": \"hair dryer\", \"polarity\": \"NEG\", \"category\": \"ROOM#BATHROOM\"}, {\"aspect\": \"room\", \"opinion\": \"water boiler\", \"polarity\": \"NEG\", \"category\": \"ROOM#BATHROOM\"}, {\"aspect\": \"room\", \"opinion\": \"safe box\", \"polarity\": \"NEG\", \"category\": \"FACILITY#GENERAL\"}, {\"aspect\": \"room\", \"opinion\": \"tissue\", \"polarity\": \"NEG\", \"category\": \"FACILITY#GENERAL\"}]}\n"
   ]
  },
  {
   "cell_type": "code",
   "execution_count": 4,
   "metadata": {},
   "outputs": [],
   "source": [
    "category_mapping = {\n",
    "    \"SERVICE#HOSPITALITY\" : \"SERVICE#GENERAL\",\n",
    "    \"HOTEL#EXPERIENCE\" : \"EXPERIENCE,AMBIENCE\",\n",
    "    \"HOTEL#AMBIENCE\" : \"EXPERIENCE,AMBIENCE\",\n",
    "    \"FACILITY#EXPERIENCE\" : \"EXPERIENCE,AMBIENCE\",\n",
    "    \"ROOM#AMBIENCE\" : \"EXPERIENCE,AMBIENCE\",\n",
    "    \"ROOM#EXPERIENCE\" : \"EXPERIENCE,AMBIENCE\",\n",
    "    \"SERVICE#AMENITIES\" : \"SERVICE#GENERAL\",\n",
    "    \"SERVICE#ASSISTANCE\" : \"SERVICE#GENERAL\",\n",
    "}"
   ]
  },
  {
   "cell_type": "code",
   "execution_count": 6,
   "metadata": {},
   "outputs": [],
   "source": [
    "import json\n",
    "\n",
    "def update_category(file_path):\n",
    "    updated_lines = []\n",
    "    with open(file_path, 'r') as file:\n",
    "        for line in file:\n",
    "            data = json.loads(line.strip())\n",
    "            for label in data[\"labels\"]:\n",
    "                if label[\"aspect\"].lower() == \"room\" and label[\"opinion\"].lower() == \"small\":\n",
    "                    label[\"category\"] = \"ROOM#SPACE\"\n",
    "            updated_lines.append(data)\n",
    "    \n",
    "    # Write the updated lines back to a new JSONL file\n",
    "    with open('updated_' + file_path, 'w') as updated_file:\n",
    "        for updated_line in updated_lines:\n",
    "            updated_file.write(json.dumps(updated_line) + '\\n')\n",
    "\n",
    "# Update the file name with your actual JSONL file path\n",
    "file_path = 'single_sentences_hotel_ina.jsonl'\n",
    "update_category(file_path)"
   ]
  },
  {
   "cell_type": "code",
   "execution_count": 7,
   "metadata": {},
   "outputs": [],
   "source": [
    "# Function to simplify categories\n",
    "def simplify_category(labels):\n",
    "    simplified_labels = []\n",
    "    for label in labels:\n",
    "        if label['category'] in category_mapping:\n",
    "            label['category'] = category_mapping[label['category']]\n",
    "        simplified_labels.append(label)\n",
    "    return simplified_labels\n",
    "\n",
    "# Input and output file paths\n",
    "input_file = 'single_sentences_hotel_ina.jsonl'\n",
    "output_file = 'single_sentences_hotel_ina_less_cat.jsonl'\n",
    "\n",
    "# Process each line in the input file and write to output file\n",
    "with jsonlines.open(output_file, mode='w') as writer:\n",
    "    with jsonlines.open(input_file) as reader:\n",
    "        for line in reader:\n",
    "            line['labels'] = simplify_category(line['labels'])\n",
    "            writer.write(line)"
   ]
  },
  {
   "cell_type": "code",
   "execution_count": null,
   "metadata": {},
   "outputs": [],
   "source": [
    "'single_sentences_hotel_ina.jsonl'"
   ]
  },
  {
   "cell_type": "markdown",
   "metadata": {},
   "source": []
  }
 ],
 "metadata": {
  "kernelspec": {
   "display_name": "env-absa",
   "language": "python",
   "name": "env-absa"
  },
  "language_info": {
   "codemirror_mode": {
    "name": "ipython",
    "version": 3
   },
   "file_extension": ".py",
   "mimetype": "text/x-python",
   "name": "python",
   "nbconvert_exporter": "python",
   "pygments_lexer": "ipython3",
   "version": "3.12.2"
  }
 },
 "nbformat": 4,
 "nbformat_minor": 2
}
