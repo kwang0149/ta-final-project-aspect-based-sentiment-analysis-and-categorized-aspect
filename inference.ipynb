{
 "cells": [
  {
   "cell_type": "code",
   "execution_count": 2,
   "metadata": {},
   "outputs": [],
   "source": [
    "import torch\n"
   ]
  },
  {
   "cell_type": "code",
   "execution_count": 3,
   "metadata": {},
   "outputs": [
    {
     "name": "stdout",
     "output_type": "stream",
     "text": [
      "True\n"
     ]
    }
   ],
   "source": [
    "print(torch.cuda.is_available())"
   ]
  },
  {
   "cell_type": "code",
   "execution_count": 4,
   "metadata": {},
   "outputs": [
    {
     "name": "stderr",
     "output_type": "stream",
     "text": [
      "c:\\Users\\hongk\\Documents\\GitHub\\ta-final-project-aspect-based-sentiment-analysis-and-categorized-aspect\\venv-absa-3.9\\lib\\site-packages\\tqdm\\auto.py:21: TqdmWarning: IProgress not found. Please update jupyter and ipywidgets. See https://ipywidgets.readthedocs.io/en/stable/user_install.html\n",
      "  from .autonotebook import tqdm as notebook_tqdm\n"
     ]
    },
    {
     "name": "stdout",
     "output_type": "stream",
     "text": [
      "Version 0.9.10.post1 of metric_visualizer is outdated. Version 0.9.13.post1 was released Wednesday May 01, 2024.\n",
      "[2024-06-25 12:33:33] (2.4.1.post1) \u001b[31mPyABSA(2.4.1.post1): If your code crashes on Colab, please use the GPU runtime. Then run \"pip install pyabsa[dev] -U\" and restart the kernel.\n",
      "Or if it does not work, you can use v1.x versions, e.g., pip install pyabsa<2.0 -U\n",
      "\n",
      "\n",
      "\n",
      "\n",
      "WARNING: When you fails to load a checkpoint, e.g., Unexpected key(s),\n",
      "Try to downgrade transformers<=4.29.0.\n",
      "\n",
      "\n",
      "\n",
      "\u001b[0m\n"
     ]
    },
    {
     "name": "stderr",
     "output_type": "stream",
     "text": [
      "c:\\Users\\hongk\\Documents\\GitHub\\ta-final-project-aspect-based-sentiment-analysis-and-categorized-aspect\\venv-absa-3.9\\lib\\site-packages\\tensorflow\\python\\framework\\dtypes.py:246: DeprecationWarning: `np.bool8` is a deprecated alias for `np.bool_`.  (Deprecated NumPy 1.24)\n",
      "  np.bool8: (False, True),\n",
      "c:\\Users\\hongk\\Documents\\GitHub\\ta-final-project-aspect-based-sentiment-analysis-and-categorized-aspect\\venv-absa-3.9\\lib\\site-packages\\tensorboard\\compat\\tensorflow_stub\\dtypes.py:326: DeprecationWarning: `np.bool8` is a deprecated alias for `np.bool_`.  (Deprecated NumPy 1.24)\n",
      "  np.bool8: (False, True),\n",
      "C:\\Users\\hongk\\AppData\\Local\\Programs\\Python\\Python39\\lib\\multiprocessing\\pool.py:265: ResourceWarning: unclosed running multiprocessing pool <multiprocessing.pool.Pool state=RUN pool_size=1>\n",
      "  _warn(f\"unclosed running multiprocessing pool {self!r}\",\n",
      "ResourceWarning: Enable tracemalloc to get the object allocation traceback\n"
     ]
    }
   ],
   "source": [
    "from pyabsa import ABSAInstruction"
   ]
  },
  {
   "cell_type": "code",
   "execution_count": 32,
   "metadata": {},
   "outputs": [],
   "source": [
    "generator = ABSAInstruction.ABSAGenerator(\n",
    "        \"checkpoints/multitask/kevinscariaate_tk-instruct-base-def-pos-neg-neut-combined-instruction/checkpoint-5472\")"
   ]
  },
  {
   "cell_type": "code",
   "execution_count": 17,
   "metadata": {},
   "outputs": [],
   "source": [
    "generator_less_cat = ABSAInstruction.ABSAGenerator(\n",
    "        \"checkpoints/multitask/kevinscariaate_tk-instruct-base-def-pos-neg-neut-combined-instruction/checkpoint-7296\")"
   ]
  },
  {
   "cell_type": "code",
   "execution_count": 23,
   "metadata": {},
   "outputs": [],
   "source": [
    "generator_cat = ABSAInstruction.ABSAGenerator(\n",
    "        \"checkpoints/multitask/kevinscariaate_tk-instruct-base-def-pos-neg-neut-combined-instruction/checkpoint-9807\")"
   ]
  },
  {
   "cell_type": "code",
   "execution_count": 34,
   "metadata": {},
   "outputs": [],
   "source": [
    "example = [\n",
    "        \"Beautiful , comfortable and friendly hotel near the beach . Great value for the money . Good situation , next to a big mall and the beach . Rooms really comfortable , clean and no noisy . Wifi excellent .\",\n",
    "        \"Room veeeeery big , comfortable big bed , hot shower , lush garden , pool and breakfast for 130k IDR in high season : what U want more ? Ok , no towel or sheet but . .\",\n",
    "        \"room without power plug point , hair dryer , water boiler , safe box and even tissue . They don ' t have any queen size bed as well . people were friend but all yr request then will not care . its very small and the wifi is totally suck here .\",\n",
    "        \"The accomodation was great given the price 30 $ per night i got from booking . com . the hotel was clean and two swiming pools to cool off the bali heat . The location - seminyak is great , great for a chilled out people . Very close Peti ( something ) and seminyak beach a taxi will offset you less than 3 $ .\",\n",
    "        \"We stayed at the Maharani with another five friends and had the best time . Staff great friendly and entertaining . Rooms light , airy and clean . They accommodated us by putting all our rooms together side by side . Great location on poppies lane 1 and beach across the road , short walk to markets and shopping . Would recommend a stay here as when we return will be staying again .\",\n",
    "        \"This is good hotel for you stay for a while in Singaraja if you find good and cheap hotel . The view is good near of the beach and it has 1 swimming pool . The bedroom is clean and service is good . But the parking is not large enough .\"\n",
    "    ]"
   ]
  },
  {
   "cell_type": "code",
   "execution_count": 41,
   "metadata": {},
   "outputs": [],
   "source": [
    "example2 = [\n",
    "    \"this hotel has beautiful pool, the breakfast is so goood, but the room is dirty and the service is quite bad\",\n",
    "    \"the hotel is near to the pandawa beach, you can go to the bar near the hotel at night, also there is a lot of restaurant. this hotel is near to the airport\"\n",
    "]"
   ]
  },
  {
   "cell_type": "code",
   "execution_count": 42,
   "metadata": {},
   "outputs": [
    {
     "name": "stdout",
     "output_type": "stream",
     "text": [
      "{'text': 'this hotel has beautiful pool, the breakfast is so goood, but the room is dirty and the service is quite bad', 'Quadruples': [{'aspect': 'pool', 'polarity': 'POS', 'opinion': 'beautiful', 'category': 'FACILITY#POOL'}, {'aspect': 'breakfast', 'polarity': 'NEU', 'opinion': 'goood', 'category': 'FOOD#TASTE'}, {'aspect': 'room', 'polarity': 'NEG', 'opinion': 'dirty', 'category': '#CLEANLINESS'}, {'aspect': 'service', 'polarity': 'NEG', 'opinion': 'bad', 'category': 'SERVICE#GENERAL'}]}\n",
      "{'text': 'the hotel is near to the pandawa beach, you can go to the bar near the hotel at night, also there is a lot of restaurant. this hotel is near to the airport', 'Quadruples': [{'aspect': 'pandawa beach', 'polarity': 'POS', 'opinion': 'near', 'category': 'LOCATION#ATTRACTIONS'}, {'aspect': 'bar', 'polarity': 'POS', 'opinion': 'near', 'category': 'LOCATION#ENTERTAINMENT'}, {'aspect': 'restaurant', 'polarity': 'POS', 'opinion': 'lot', 'category': 'LOCATION#NEARBY_AMENITIES'}, {'aspect': 'airport', 'polarity': 'POS', 'opinion': 'near', 'category': 'LOCATION#TRANSPORT_HUB'}]}\n"
     ]
    }
   ],
   "source": [
    "for example in example2:\n",
    "    result = generator_less_cat.predict(example)"
   ]
  },
  {
   "cell_type": "code",
   "execution_count": null,
   "metadata": {},
   "outputs": [],
   "source": [
    "for example in example:\n",
    "    result = generator_less_cat.predict(example)"
   ]
  },
  {
   "cell_type": "code",
   "execution_count": 35,
   "metadata": {},
   "outputs": [
    {
     "name": "stdout",
     "output_type": "stream",
     "text": [
      "{'text': 'Beautiful , comfortable and friendly hotel near the beach . Great value for the money . Good situation , next to a big mall and the beach . Rooms really comfortable , clean and no noisy . Wifi excellent .', 'Quadruples': [{'aspect': 'hotel', 'polarity': 'POS', 'opinion': 'Beautiful', 'category': 'HOTEL#GENERAL'}, {'aspect': 'beach', 'polarity': 'POS', 'opinion': 'friendly', 'category': '#EXPERIENCE'}, {'aspect': 'money', 'polarity': 'POS', 'opinion': 'near', 'category': 'LOCATION#ATTRACTIONS'}, {'aspect': 'situation', 'polarity': 'POS', 'opinion': 'Great', 'category': '#PRICE'}, {'aspect': 'mall', 'polarity': 'POS', 'opinion': 'Good', 'category': '#EXPERIENCE'}, {'aspect': 'beach', 'polarity': 'POS', 'opinion': 'near', 'category': 'LOCATION#ENTERTAINMENT'}, {'aspect': 'Rooms', 'polarity': 'POS', 'opinion': 'near', 'category': 'LOCATION#ATTRACTIONS'}, {'aspect': 'Wifi', 'polarity': 'POS', 'opinion': 'comfortable', 'category': '#EXPERIENCE'}]}\n",
      "{'text': 'Room veeeeery big , comfortable big bed , hot shower , lush garden , pool and breakfast for 130k IDR in high season : what U want more ? Ok , no towel or sheet but . .', 'Quadruples': [{'aspect': 'Room', 'polarity': 'POS', 'opinion': 'veeeery big', 'category': 'ROOM#SPACE'}, {'aspect': 'bed', 'polarity': 'POS', 'opinion': 'comfortable', 'category': 'ROOM#BED'}, {'aspect': 'shower', 'polarity': 'POS', 'opinion': 'hot', 'category': 'ROOM#BATHROOM'}, {'aspect': 'garden', 'polarity': 'POS', 'opinion': 'lush', 'category': 'FACILITY#GENERAL'}, {'aspect': 'pool', 'polarity': 'POS', 'opinion': 'lush', 'category': 'FACILITY#POOL'}, {'aspect': 'breakfast', 'polarity': 'POS', 'opinion': '130k', 'category': 'FOOD#TASTE'}]}\n",
      "{'text': \"room without power plug point , hair dryer , water boiler , safe box and even tissue . They don ' t have any queen size bed as well . people were friend but all yr request then will not care . its very small and the wifi is totally suck here .\", 'Quadruples': [{'aspect': 'room', 'polarity': 'NEG', 'opinion': 'with power plug point', 'category': 'ROOM#GENERAL'}, {'aspect': 'power plug point', 'polarity': 'NEG', 'opinion': 'with', 'category': 'ROOM#GENERAL'}, {'aspect': 'hair dryer', 'polarity': 'NEG', 'opinion': 'with', 'category': 'ROOM#BATHROOM'}, {'aspect': 'water boiler', 'polarity': 'NEG', 'opinion': 'with', 'category': 'ROOM#BATHROOM'}, {'aspect': 'safe box', 'polarity': 'NEG', 'opinion': 'with', 'category': 'ROOM#BATHROOM'}, {'aspect': 'tissue', 'polarity': 'NEG', 'opinion': \"don't have\", 'category': 'ROOM#BATHROOM'}, {'aspect': 'bed', 'polarity': 'NEG', 'opinion': 'friend', 'category': 'ROOM#BED'}, {'aspect': 'people', 'polarity': 'NEG', 'opinion': 'suck', 'category': 'SERVICE#GENERAL'}]}\n",
      "{'text': 'The accomodation was great given the price 30 $ per night i got from booking . com . the hotel was clean and two swiming pools to cool off the bali heat . The location - seminyak is great , great for a chilled out people . Very close Peti ( something ) and seminyak beach a taxi will offset you less than 3 $ .', 'Quadruples': [{'aspect': 'hotel', 'polarity': 'POS', 'opinion': 'clean', 'category': '#CLEANLINESS'}, {'aspect': 'swimming pools', 'polarity': 'POS', 'opinion': 'cool off', 'category': 'FACILITY#POOL'}, {'aspect': 'location', 'polarity': 'POS', 'opinion': 'great', 'category': 'LOCATION#GENERAL'}, {'aspect': 'beach', 'polarity': 'POS', 'opinion': 'close', 'category': 'LOCATION#ATTRACTIONS'}, {'aspect': 'Peti', 'polarity': 'POS', 'opinion': 'close', 'category': 'LOCATION#ATTRACTIONS'}, {'aspect': 'beach', 'polarity': 'POS', 'opinion': 'close', 'category': 'LOCATION#ATTRACTIONS'}]}\n",
      "{'text': 'We stayed at the Maharani with another five friends and had the best time . Staff great friendly and entertaining . Rooms light , airy and clean . They accommodated us by putting all our rooms together side by side . Great location on poppies lane 1 and beach across the road , short walk to markets and shopping . Would recommend a stay here as when we return will be staying again .', 'Quadruples': [{'aspect': 'time', 'polarity': 'POS', 'opinion': 'best', 'category': '#EXPERIENCE'}, {'aspect': 'Staff', 'polarity': 'POS', 'opinion': 'friendly', 'category': 'SERVICE#GENERAL'}, {'aspect': 'Rooms', 'polarity': 'POS', 'opinion': 'enjoying', 'category': 'SERVICE#GENERAL'}, {'aspect': 'location', 'polarity': 'POS', 'opinion': 'light', 'category': 'ROOM#GENERAL'}, {'aspect': 'poppies lane 1', 'polarity': 'POS', 'opinion': 'airy', 'category': '#CLEANLINESS'}, {'aspect': 'beach', 'polarity': 'POS', 'opinion': 'clean', 'category': 'LOCATION#GENERAL'}, {'aspect': 'markets', 'polarity': 'POS', 'opinion': 'Great', 'category': 'LOCATION#ATTRACTIONS'}, {'aspect': 'shopping', 'polarity': 'POS', 'opinion': 'Great', 'category': 'LOCATION#ATTRACTIONS'}]}\n",
      "{'text': 'This is good hotel for you stay for a while in Singaraja if you find good and cheap hotel . The view is good near of the beach and it has 1 swimming pool . The bedroom is clean and service is good . But the parking is not large enough .', 'Quadruples': [{'aspect': 'hotel', 'polarity': 'POS', 'opinion': 'good', 'category': 'HOTEL#GENERAL'}, {'aspect': 'view', 'polarity': 'POS', 'opinion': 'good', 'category': '#VIEW'}, {'aspect': 'beach', 'polarity': 'POS', 'opinion': 'near', 'category': 'LOCATION#ATTRACTIONS'}, {'aspect': 'pool', 'polarity': 'POS', 'opinion': '1', 'category': 'FACILITY#POOL'}, {'aspect': 'bedroom', 'polarity': 'POS', 'opinion': 'clean', 'category': 'ROOM#GENERAL'}, {'aspect': 'service', 'polarity': 'POS', 'opinion': 'good', 'category': 'SERVICE#GENERAL'}, {'aspect': 'parking', 'polarity': 'NEG', 'opinion': 'not large', 'category': 'FACILITY#GENERAL'}]}\n"
     ]
    }
   ],
   "source": [
    "for example in example:\n",
    "    result = generator.predict(example)"
   ]
  },
  {
   "cell_type": "code",
   "execution_count": 31,
   "metadata": {},
   "outputs": [
    {
     "name": "stdout",
     "output_type": "stream",
     "text": [
      "{'text': 'o', 'Quadruples': [{'aspect': 'o', 'polarity': 'POS', 'opinion': 'o', 'category': 'HOTEL#GENERAL'}, {'aspect': 'everything', 'polarity': 'POS', 'opinion': 'o', 'category': 'HOTEL#GENERAL'}]}\n"
     ]
    }
   ],
   "source": [
    "for example in example:\n",
    "    result = generator.predict(example)"
   ]
  },
  {
   "cell_type": "markdown",
   "metadata": {},
   "source": [
    "Inference for single sentence model"
   ]
  },
  {
   "cell_type": "code",
   "execution_count": 9,
   "metadata": {},
   "outputs": [
    {
     "name": "stdout",
     "output_type": "stream",
     "text": [
      "Texts have been successfully extracted to extracted_texts_ss_test.csv\n"
     ]
    }
   ],
   "source": [
    "import json\n",
    "import csv\n",
    "\n",
    "# Path to your JSONL file\n",
    "jsonl_file_path = 'inference-test-ss.jsonl'\n",
    "\n",
    "# Path to the output CSV file\n",
    "csv_file_path = 'extracted_texts_ss_test.csv'\n",
    "\n",
    "# Open the JSONL file and the CSV file\n",
    "with open(jsonl_file_path, 'r') as jsonl_file, open(csv_file_path, 'w', newline='') as csv_file:\n",
    "    csv_writer = csv.writer(csv_file)\n",
    "    \n",
    "    # Read each line in the JSONL file\n",
    "    for line in jsonl_file:\n",
    "        # Parse the JSON object\n",
    "        json_obj = json.loads(line.strip())\n",
    "        \n",
    "        # Extract the text field\n",
    "        text = json_obj['text']\n",
    "        \n",
    "        # Write the text to the CSV file\n",
    "        csv_writer.writerow([text])\n",
    "\n",
    "print(f'Texts have been successfully extracted to {csv_file_path}')\n"
   ]
  },
  {
   "cell_type": "code",
   "execution_count": 5,
   "metadata": {},
   "outputs": [],
   "source": [
    "generator_ss_model = ABSAInstruction.ABSAGenerator(\n",
    "        \"checkpoints/multitask/kevinscariaate_tk-instruct-base-def-pos-neg-neut-combined-quadruple-ss/checkpoint-17028\")"
   ]
  },
  {
   "cell_type": "code",
   "execution_count": 6,
   "metadata": {},
   "outputs": [],
   "source": [
    "ex_ss = [\n",
    "    \"this hotel has beautiful pool, the breakfast is so goood, but the room is dirty and the service is quite bad\",\n",
    "    \"the hotel is near to the pandawa beach, you can go to the bar near the hotel at night, also there is a lot of restaurant. this hotel is near to the airport\"\n",
    "]"
   ]
  },
  {
   "cell_type": "code",
   "execution_count": null,
   "metadata": {},
   "outputs": [],
   "source": [
    "{\"text\": \"but nice hotel for budget traveller .\", \"labels\": [{\"aspect\": \"budget\", \"opinion\": \"nice\", \"polarity\": \"POS\", \"category\": \"HOTEL#PRICE\"}]}\n",
    "{\"text\": \"We moved to this Hotel because its closer to the Double Six Beach .\", \"labels\": [{\"aspect\": \"Hotel\", \"opinion\": \"moved\", \"polarity\": \"NEU\", \"category\": \"LOCATION#GENERAL\"}, {\"aspect\": \"Beach\", \"opinion\": \"closer\", \"polarity\": \"POS\", \"category\": \"LOCATION#VIEW\"}]}\n",
    "{\"text\": \"The room smelled very musty , it was unclean and dirty .\", \"labels\": [{\"aspect\": \"room\", \"opinion\": \"smelled\", \"polarity\": \"NEG\", \"category\": \"ROOM#CLEANLINESS\"}, {\"aspect\": \"room\", \"opinion\": \"unclean\", \"polarity\": \"NEG\", \"category\": \"ROOM#CLEANLINESS\"}, {\"aspect\": \"room\", \"opinion\": \"dirty\", \"polarity\": \"NEG\", \"category\": \"ROOM#CLEANLINESS\"}]}\n"
   ]
  },
  {
   "cell_type": "code",
   "execution_count": 8,
   "metadata": {},
   "outputs": [
    {
     "name": "stdout",
     "output_type": "stream",
     "text": [
      "{'text': 'this hotel has beautiful pool, the breakfast is so goood, but the room is dirty and the service is quite bad', 'Quadruples': [{'aspect': 'hotel', 'polarity': 'POS', 'opinion': 'beautiful pool', 'category': 'HOTEL#GENERAL'}, {'aspect': 'pool', 'polarity': 'POS', 'opinion': 'goood', 'category': 'FACILITY#POOL'}, {'aspect': 'breakfast', 'polarity': 'POS', 'opinion': 'dirty', 'category': 'FOOD#TASTE'}, {'aspect': 'room', 'polarity': 'NEG', 'opinion': 'bad', 'category': 'ROOM#CLEANLINESS'}]}\n",
      "{'text': 'the hotel is near to the pandawa beach, you can go to the bar near the hotel at night, also there is a lot of restaurant. this hotel is near to the airport', 'Quadruples': [{'aspect': 'airport', 'polarity': 'POS', 'opinion': 'near', 'category': 'LOCATION#TRANSPORT_HUB'}]}\n"
     ]
    }
   ],
   "source": [
    "for example in ex_ss:\n",
    "    result = generator_ss_model.predict(example)"
   ]
  },
  {
   "cell_type": "markdown",
   "metadata": {},
   "source": [
    "Multi sentences"
   ]
  },
  {
   "cell_type": "code",
   "execution_count": null,
   "metadata": {},
   "outputs": [],
   "source": [
    "generator_ss_model = ABSAInstruction.ABSAGenerator(\n",
    "        \"checkpoints/multitask/kevinscariaate_tk-instruct-bgenerator_ss_model = ABSAInstruction.ABSAGenerator(\n",
    "        \"checkpoints/multitask/kevinscariaate_tk-instruct-base-def-pos-neg-neut-combined-quadruple-ss/checkpoint-17028\")ase-def-pos-neg-neut-combined-quadruple-ss/checkpoint-17028\")"
   ]
  }
 ],
 "metadata": {
  "kernelspec": {
   "display_name": "venv",
   "language": "python",
   "name": "python3"
  },
  "language_info": {
   "codemirror_mode": {
    "name": "ipython",
    "version": 3
   },
   "file_extension": ".py",
   "mimetype": "text/x-python",
   "name": "python",
   "nbconvert_exporter": "python",
   "pygments_lexer": "ipython3",
   "version": "3.9.13"
  }
 },
 "nbformat": 4,
 "nbformat_minor": 2
}
