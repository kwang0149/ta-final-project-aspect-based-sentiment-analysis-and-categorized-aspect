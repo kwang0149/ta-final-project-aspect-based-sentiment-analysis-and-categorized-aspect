{
 "cells": [
  {
   "cell_type": "code",
   "execution_count": 3,
   "metadata": {},
   "outputs": [],
   "source": [
    "import torch\n"
   ]
  },
  {
   "cell_type": "code",
   "execution_count": 4,
   "metadata": {},
   "outputs": [
    {
     "name": "stdout",
     "output_type": "stream",
     "text": [
      "True\n"
     ]
    }
   ],
   "source": [
    "print(torch.cuda.is_available())"
   ]
  },
  {
   "cell_type": "code",
   "execution_count": 2,
   "metadata": {},
   "outputs": [
    {
     "name": "stderr",
     "output_type": "stream",
     "text": [
      "c:\\Users\\hongk\\Documents\\GitHub\\ta-final-project-aspect-based-sentiment-analysis-and-categorized-aspect\\venv-absa-3.9\\lib\\site-packages\\tqdm\\auto.py:21: TqdmWarning: IProgress not found. Please update jupyter and ipywidgets. See https://ipywidgets.readthedocs.io/en/stable/user_install.html\n",
      "  from .autonotebook import tqdm as notebook_tqdm\n"
     ]
    },
    {
     "name": "stdout",
     "output_type": "stream",
     "text": [
      "Version 0.9.10.post1 of metric_visualizer is outdated. Version 0.9.13.post1 was released Wednesday May 01, 2024.\n",
      "[2024-06-03 15:28:05] (2.4.1.post1) \u001b[31mPyABSA(2.4.1.post1): If your code crashes on Colab, please use the GPU runtime. Then run \"pip install pyabsa[dev] -U\" and restart the kernel.\n",
      "Or if it does not work, you can use v1.x versions, e.g., pip install pyabsa<2.0 -U\n",
      "\n",
      "\n",
      "\n",
      "\n",
      "WARNING: When you fails to load a checkpoint, e.g., Unexpected key(s),\n",
      "Try to downgrade transformers<=4.29.0.\n",
      "\n",
      "\n",
      "\n",
      "\u001b[0m\n"
     ]
    },
    {
     "name": "stderr",
     "output_type": "stream",
     "text": [
      "c:\\Users\\hongk\\Documents\\GitHub\\ta-final-project-aspect-based-sentiment-analysis-and-categorized-aspect\\venv-absa-3.9\\lib\\site-packages\\tensorflow\\python\\framework\\dtypes.py:246: DeprecationWarning: `np.bool8` is a deprecated alias for `np.bool_`.  (Deprecated NumPy 1.24)\n",
      "  np.bool8: (False, True),\n",
      "c:\\Users\\hongk\\Documents\\GitHub\\ta-final-project-aspect-based-sentiment-analysis-and-categorized-aspect\\venv-absa-3.9\\lib\\site-packages\\tensorboard\\compat\\tensorflow_stub\\dtypes.py:326: DeprecationWarning: `np.bool8` is a deprecated alias for `np.bool_`.  (Deprecated NumPy 1.24)\n",
      "  np.bool8: (False, True),\n",
      "C:\\Users\\hongk\\AppData\\Local\\Programs\\Python\\Python39\\lib\\multiprocessing\\pool.py:265: ResourceWarning: unclosed running multiprocessing pool <multiprocessing.pool.Pool state=RUN pool_size=1>\n",
      "  _warn(f\"unclosed running multiprocessing pool {self!r}\",\n",
      "ResourceWarning: Enable tracemalloc to get the object allocation traceback\n"
     ]
    }
   ],
   "source": [
    "from pyabsa import ABSAInstruction"
   ]
  },
  {
   "cell_type": "code",
   "execution_count": 8,
   "metadata": {},
   "outputs": [],
   "source": [
    "generator = ABSAInstruction.ABSAGenerator(\n",
    "        \"checkpoints/multitask/kevinscariaate_tk-instruct-base-def-pos-neg-neut-combined-instruction/checkpoint-5472\")"
   ]
  },
  {
   "cell_type": "code",
   "execution_count": 9,
   "metadata": {},
   "outputs": [],
   "source": [
    "example = [\n",
    "        \"Beautiful , comfortable and friendly hotel near the beach . Great value for the money . Good situation , next to a big mall and the beach . Rooms really comfortable , clean and no noisy . Wifi excellent .\",\n",
    "        \"Room veeeeery big , comfortable big bed , hot shower , lush garden , pool and breakfast for 130k IDR in high season : what U want more ? Ok , no towel or sheet but . .\",\n",
    "        \"room without power plug point , hair dryer , water boiler , safe box and even tissue . They don ' t have any queen size bed as well . people were friend but all yr request then will not care . its very small and the wifi is totally suck here .\",\n",
    "        \"The accomodation was great given the price 30 $ per night i got from booking . com . the hotel was clean and two swiming pools to cool off the bali heat . The location - seminyak is great , great for a chilled out people . Very close Peti ( something ) and seminyak beach a taxi will offset you less than 3 $ .\",\n",
    "        \"We stayed at the Maharani with another five friends and had the best time . Staff great friendly and entertaining . Rooms light , airy and clean . They accommodated us by putting all our rooms together side by side . Great location on poppies lane 1 and beach across the road , short walk to markets and shopping . Would recommend a stay here as when we return will be staying again .\",\n",
    "        \"This is good hotel for you stay for a while in Singaraja if you find good and cheap hotel . The view is good near of the beach and it has 1 swimming pool . The bedroom is clean and service is good . But the parking is not large enough .\"\n",
    "    ]"
   ]
  },
  {
   "cell_type": "code",
   "execution_count": 10,
   "metadata": {},
   "outputs": [
    {
     "name": "stdout",
     "output_type": "stream",
     "text": [
      "{'text': 'Beautiful , comfortable and friendly hotel near the beach . Great value for the money . Good situation , next to a big mall and the beach . Rooms really comfortable , clean and no noisy . Wifi excellent .', 'Quadruples': [{'aspect': 'hotel', 'polarity': 'POS', 'opinion': 'Beautiful', 'category': 'HOTEL#GENERAL'}, {'aspect': 'beach', 'polarity': 'POS', 'opinion': 'friendly', 'category': 'LOCATION#ATTRACTIONS'}, {'aspect': 'value', 'polarity': 'POS', 'opinion': 'near', 'category': 'f#PRICE'}, {'aspect': 'money', 'polarity': 'POS', 'opinion': 'Great', 'category': 'f#PRICE'}, {'aspect': 'situation', 'polarity': 'POS', 'opinion': 'Great', 'category': 'LOCATION#GENERAL'}, {'aspect': 'mall', 'polarity': 'POS', 'opinion': 'Good', 'category': 'LOCATION#ENTERTAINMENT'}, {'aspect': 'beach', 'polarity': 'POS', 'opinion': 'near', 'category': 'LOCATION#ATTRACTIONS'}, {'aspect': 'Rooms', 'polarity': 'POS', 'opinion': 'near', 'category': '#CLEANLINESS'}, {'aspect': 'Wifi', 'polarity': 'POS', 'opinion': 'comfortable', 'category': '#EXPERIENCE'}]}\n",
      "{'text': 'Room veeeeery big , comfortable big bed , hot shower , lush garden , pool and breakfast for 130k IDR in high season : what U want more ? Ok , no towel or sheet but . .', 'Quadruples': [{'aspect': 'Room', 'polarity': 'POS', 'opinion': 'veeeery big', 'category': 'ROOM#GENERAL'}, {'aspect': 'bed', 'polarity': 'POS', 'opinion': 'comfortable', 'category': 'ROOM#BED'}, {'aspect': 'shower', 'polarity': 'POS', 'opinion': 'hot', 'category': 'ROOM#BATHROOM'}, {'aspect': 'garden', 'polarity': 'POS', 'opinion': 'hot', 'category': 'FACILITY#GENERAL'}, {'aspect': 'pool', 'polarity': 'POS', 'opinion': 'lush', 'category': 'FACILITY#POOL'}, {'aspect': 'breakfast', 'polarity': 'NEU', 'opinion': 'lush', 'category': 'FOOD#TASTE'}]}\n",
      "{'text': \"room without power plug point , hair dryer , water boiler , safe box and even tissue . They don ' t have any queen size bed as well . people were friend but all yr request then will not care . its very small and the wifi is totally suck here .\", 'Quadruples': [{'aspect': 'room', 'polarity': 'NEG', 'opinion': 'with power plug point', 'category': 'ROOM#GENERAL'}, {'aspect': 'hair dryer', 'polarity': 'NEG', 'opinion': 'with power plug point', 'category': 'ROOM#BATHROOM'}, {'aspect': 'water boiler', 'polarity': 'NEG', 'opinion': 'with power plug point', 'category': 'ROOM#BATHROOM'}, {'aspect': 'safe box', 'polarity': 'NEG', 'opinion': 'with power plug', 'category': 'ROOM#BATHROOM'}, {'aspect': 'tissue', 'polarity': 'NEG', 'opinion': 'with power plug', 'category': 'ROOM#BATHROOM'}, {'aspect': 'bed', 'polarity': 'NEG', 'opinion': \"don't have\", 'category': 'ROOM#BED'}, {'aspect': 'people', 'polarity': 'NEG', 'opinion': 'friend', 'category': 'SERVICE#GENERAL'}, {'aspect': 'wifi', 'polarity': 'NEG', 'opinion': 'suck', 'category': 'FACILITY#WIFI'}]}\n",
      "{'text': 'The accomodation was great given the price 30 $ per night i got from booking . com . the hotel was clean and two swiming pools to cool off the bali heat . The location - seminyak is great , great for a chilled out people . Very close Peti ( something ) and seminyak beach a taxi will offset you less than 3 $ .', 'Quadruples': [{'aspect': 'accomodation', 'polarity': 'POS', 'opinion': 'great', 'category': 'f#PRICE'}, {'aspect': 'price', 'polarity': 'POS', 'opinion': 'great', 'category': 'f#PRICE'}, {'aspect': 'hotel', 'polarity': 'POS', 'opinion': 'clean', 'category': '#CLEANLINESS'}, {'aspect': 'swimming pools', 'polarity': 'POS', 'opinion': 'cool off', 'category': 'FACILITY#POOL'}, {'aspect': 'location', 'polarity': 'POS', 'opinion': 'great', 'category': 'LOCATION#GENERAL'}, {'aspect': 'beach', 'polarity': 'POS', 'opinion': 'close', 'category': 'LOCATION#ATTRACTIONS'}, {'aspect': 'Peti', 'polarity': 'POS', 'opinion': 'close', 'category': 'LOCATION#ATTRACTIONS'}, {'aspect': 'seminyak beach', 'polarity': 'POS', 'opinion': 'close', 'category': 'LOCATION#ATTRACTIONS'}]}\n",
      "{'text': 'We stayed at the Maharani with another five friends and had the best time . Staff great friendly and entertaining . Rooms light , airy and clean . They accommodated us by putting all our rooms together side by side . Great location on poppies lane 1 and beach across the road , short walk to markets and shopping . Would recommend a stay here as when we return will be staying again .', 'Quadruples': [{'aspect': 'time', 'polarity': 'POS', 'opinion': 'best', 'category': '#EXPERIENCE'}, {'aspect': 'Staff', 'polarity': 'POS', 'opinion': 'friendly', 'category': 'SERVICE#GENERAL'}, {'aspect': 'Rooms', 'polarity': 'POS', 'opinion': 'enjoying', 'category': 'SERVICE#GENERAL'}, {'aspect': 'location', 'polarity': 'POS', 'opinion': 'light', 'category': 'ROOM#GENERAL'}, {'aspect': 'poppies lane 1', 'polarity': 'POS', 'opinion': 'airy', 'category': '#CLEANLINESS'}, {'aspect': 'beach', 'polarity': 'POS', 'opinion': 'clean', 'category': 'LOCATION#GENERAL'}, {'aspect': 'markets', 'polarity': 'POS', 'opinion': 'Great', 'category': 'LOCATION#ATTRACTIONS'}, {'aspect': 'shopping', 'polarity': 'POS', 'opinion': 'Great', 'category': 'LOCATION#ATTRACTIONS'}]}\n",
      "{'text': 'This is good hotel for you stay for a while in Singaraja if you find good and cheap hotel . The view is good near of the beach and it has 1 swimming pool . The bedroom is clean and service is good . But the parking is not large enough .', 'Quadruples': [{'aspect': 'hotel', 'polarity': 'POS', 'opinion': 'good', 'category': 'f#PRICE'}, {'aspect': 'view', 'polarity': 'POS', 'opinion': 'good', 'category': '#VIEW'}, {'aspect': 'beach', 'polarity': 'POS', 'opinion': 'near', 'category': 'LOCATION#ATTRACTIONS'}, {'aspect': 'pool', 'polarity': 'POS', 'opinion': '1', 'category': 'FACILITY#POOL'}, {'aspect': 'bedroom', 'polarity': 'POS', 'opinion': 'clean', 'category': 'ROOM#BED'}, {'aspect': 'service', 'polarity': 'POS', 'opinion': 'good', 'category': 'SERVICE#GENERAL'}, {'aspect': 'parking', 'polarity': 'NEG', 'opinion': 'not large enough', 'category': 'SERVICE#GENERAL'}]}\n"
     ]
    }
   ],
   "source": [
    "for example in example:\n",
    "    result = generator.predict(example)"
   ]
  },
  {
   "cell_type": "code",
   "execution_count": 7,
   "metadata": {},
   "outputs": [
    {
     "name": "stderr",
     "output_type": "stream",
     "text": [
      "c:\\Users\\hongk\\Documents\\GitHub\\ta-final-project-aspect-based-sentiment-analysis-and-categorized-aspect\\venv-absa-3.9\\lib\\site-packages\\transformers\\generation\\utils.py:1219: UserWarning: You have modified the pretrained model configuration to control generation. This is a deprecated strategy to control generation and will be removed soon, in a future version. Please use a generation configuration file (see https://huggingface.co/docs/transformers/main_classes/text_generation)\n",
      "  warnings.warn(\n",
      "c:\\Users\\hongk\\Documents\\GitHub\\ta-final-project-aspect-based-sentiment-analysis-and-categorized-aspect\\venv-absa-3.9\\lib\\site-packages\\transformers\\generation\\utils.py:1313: UserWarning: Using `max_length`'s default (128) to control the generation length. This behaviour is deprecated and will be removed from the config in v5 of Transformers -- we recommend using `max_new_tokens` to control the maximum length of the generation.\n",
      "  warnings.warn(\n"
     ]
    },
    {
     "name": "stdout",
     "output_type": "stream",
     "text": [
      "{'text': 'Beautiful , comfortable and friendly hotel near the beach . Great value for the money . Good situation , next to a big mall and the beach . Rooms really comfortable , clean and no noisy . Wifi excellent .', 'Quadruples': [{'aspect': 'hotel', 'polarity': 'POS', 'opinion': 'Beautiful', 'category': 'HOTEL#GENERAL'}, {'aspect': 'situation', 'polarity': 'POS', 'opinion': 'Good', 'category': 'HOTEL#EXPERIENCE'}, {'aspect': 'mall', 'polarity': 'POS', 'opinion': 'near', 'category': 'LOCATION#ENTERTAINMENT'}, {'aspect': 'beach', 'polarity': 'POS', 'opinion': 'near', 'category': 'LOCATION#ATTRACTIONS'}, {'aspect': 'Rooms', 'polarity': 'POS', 'opinion': 'comfortable', 'category': 'ROOM#CLEANLINESS'}, {'aspect': 'Wifi', 'polarity': 'POS', 'opinion': 'clean', 'category': 'FACILITY#WIFI'}]}\n",
      "{'text': 'Room veeeeery big , comfortable big bed , hot shower , lush garden , pool and breakfast for 130k IDR in high season : what U want more ? Ok , no towel or sheet but . .', 'Quadruples': [{'aspect': 'Room', 'polarity': 'POS', 'opinion': 'veeeery big', 'category': 'ROOM#GENERAL'}, {'aspect': 'bed', 'polarity': 'POS', 'opinion': 'comfortable', 'category': 'ROOM#BED'}, {'aspect': 'shower', 'polarity': 'POS', 'opinion': 'hot', 'category': 'ROOM#BATHROOM'}, {'aspect': 'garden', 'polarity': 'POS', 'opinion': 'lush', 'category': 'FACILITY#GENERAL'}, {'aspect': 'pool', 'polarity': 'POS', 'opinion': 'lush', 'category': 'FACILITY#POOL'}, {'aspect': 'breakfast', 'polarity': 'POS', 'opinion': '130k IDR', 'category': 'FOOD#TASTE'}]}\n",
      "{'text': \"room without power plug point , hair dryer , water boiler , safe box and even tissue . They don ' t have any queen size bed as well . people were friend but all yr request then will not care . its very small and the wifi is totally suck here .\", 'Quadruples': [{'aspect': 'room', 'polarity': 'NEG', 'opinion': 'small', 'category': 'ROOM#SPACE'}, {'aspect': 'power plug point', 'polarity': 'NEG', 'opinion': 'not', 'category': 'ROOM#GENERAL'}, {'aspect': 'hair dryer', 'polarity': 'NEG', 'opinion': 'not', 'category': 'ROOM#BATHROOM'}, {'aspect': 'water boiler', 'polarity': 'NEG', 'opinion': 'not', 'category': 'ROOM#BATHROOM'}, {'aspect': 'safe box', 'polarity': 'NEG', 'opinion': 'not', 'category': 'ROOM#BATHROOM'}, {'aspect': 'tissue', 'polarity': 'NEG', 'opinion': \"don't have\", 'category': 'ROOM#BED'}, {'aspect': 'bed', 'polarity': 'NEG', 'opinion': \"don't have\", 'category': 'ROOM#BED'}]}\n",
      "{'text': 'The accomodation was great given the price 30 $ per night i got from booking . com . the hotel was clean and two swiming pools to cool off the bali heat . The location - seminyak is great , great for a chilled out people . Very close Peti ( something ) and seminyak beach a taxi will offset you less than 3 $ .', 'Quadruples': [{'aspect': 'accomodation', 'polarity': 'POS', 'opinion': 'great', 'category': 'HOTEL#GENERAL'}, {'aspect': 'price', 'polarity': 'POS', 'opinion': '30 $ per night', 'category': 'HOTEL#PRICE'}, {'aspect': 'location', 'polarity': 'POS', 'opinion': 'great', 'category': 'LOCATION#GENERAL'}, {'aspect': 'swimming pools', 'polarity': 'POS', 'opinion': 'cool off the bali heat', 'category': 'FACILITY#POOL'}, {'aspect': 'location', 'polarity': 'POS', 'opinion': 'great', 'category': 'LOCATION#GENERAL'}, {'aspect': 'beach', 'polarity': 'POS', 'opinion': 'close', 'category': 'LOCATION#ATTRACTIONS'}, {'aspect': 'hotel', 'polarity': 'POS', 'opinion': 'clean', 'category': 'HOTEL#CLEANLINESS'}]}\n",
      "{'text': 'We stayed at the Maharani with another five friends and had the best time . Staff great friendly and entertaining . Rooms light , airy and clean . They accommodated us by putting all our rooms together side by side . Great location on poppies lane 1 and beach across the road , short walk to markets and shopping . Would recommend a stay here as when we return will be staying again .', 'Quadruples': [{'aspect': 'Staff', 'polarity': 'POS', 'opinion': 'great friendly', 'category': 'SERVICE#HOSPITALITY'}, {'aspect': 'Rooms', 'polarity': 'POS', 'opinion': 'enjoying', 'category': 'SERVICE#HOSPITALITY'}, {'aspect': 'location', 'polarity': 'POS', 'opinion': 'light', 'category': 'ROOM#CLEANLINESS'}, {'aspect': 'beach', 'polarity': 'POS', 'opinion': 'airy', 'category': 'ROOM#CLEANLINESS'}, {'aspect': 'markets', 'polarity': 'POS', 'opinion': 'clean', 'category': 'LOCATION#GENERAL'}, {'aspect': 'shopping', 'polarity': 'POS', 'opinion': 'Great', 'category': 'LOCATION#ATTRACTIONS'}]}\n",
      "{'text': 'This is good hotel for you stay for a while in Singaraja if you find good and cheap hotel . The view is good near of the beach and it has 1 swimming pool . The bedroom is clean and service is good . But the parking is not large enough .', 'Quadruples': [{'aspect': 'view', 'polarity': 'POS', 'opinion': 'good', 'category': 'LOCATION#VIEW'}, {'aspect': 'beach', 'polarity': 'POS', 'opinion': 'near', 'category': 'LOCATION#ATTRACTIONS'}, {'aspect': 'bed', 'polarity': 'POS', 'opinion': 'clean', 'category': 'ROOM#BED'}, {'aspect': 'service', 'polarity': 'POS', 'opinion': 'good', 'category': 'SERVICE#GENERAL'}, {'aspect': 'parking', 'polarity': 'NEG', 'opinion': 'not large enough', 'category': 'FACILITY#GENERAL'}]}\n"
     ]
    }
   ],
   "source": [
    "for example in example:\n",
    "    result = generator.predict(example)"
   ]
  },
  {
   "cell_type": "code",
   "execution_count": 15,
   "metadata": {},
   "outputs": [
    {
     "name": "stdout",
     "output_type": "stream",
     "text": [
      "{'text': 'Beautiful , comfortable and friendly hotel near the beach . Great value for the money . Good situation , next to a big mall and the beach . Rooms really comfortable , clean and no noisy . Wifi excellent .', 'Quadruples': [{'aspect': 'hotel', 'polarity': 'POS', 'opinion': 'Beautiful', 'category': 'HOTEL#GENERAL'}, {'aspect': 'situation', 'polarity': 'POS', 'opinion': 'friendly', 'category': 'HOTEL#GENERAL'}, {'aspect': 'mall', 'polarity': 'POS', 'opinion': 'Good', 'category': 'LOCATION#ENTERTAINMENT'}, {'aspect': 'beach', 'polarity': 'POS', 'opinion': 'near', 'category': 'LOCATION#ATTRACTIONS'}, {'aspect': 'Rooms', 'polarity': 'POS', 'opinion': 'near', 'category': 'ROOM#CLEANLINESS'}, {'aspect': 'Wifi', 'polarity': 'POS', 'opinion': 'comfortable', 'category': 'ROOM#CLEANLINESS'}, {'aspect': 'money', 'polarity': 'POS', 'opinion': 'clean', 'category': 'FACILITY#WIFI'}]}\n",
      "{'text': 'Room veeeeery big , comfortable big bed , hot shower , lush garden , pool and breakfast for 130k IDR in high season : what U want more ? Ok , no towel or sheet but . .', 'Quadruples': [{'aspect': 'Room', 'polarity': 'POS', 'opinion': 'veeeery big', 'category': 'ROOM#GENERAL'}, {'aspect': 'bed', 'polarity': 'POS', 'opinion': 'comfortable', 'category': 'ROOM#BED'}, {'aspect': 'shower', 'polarity': 'POS', 'opinion': 'hot', 'category': 'ROOM#BATHROOM'}, {'aspect': 'garden', 'polarity': 'POS', 'opinion': 'lush', 'category': 'FACILITY#GENERAL'}, {'aspect': 'pool', 'polarity': 'POS', 'opinion': '130k IDR', 'category': 'FACILITY#POOL'}, {'aspect': 'breakfast', 'polarity': 'POS', 'opinion': '130k IDR', 'category': 'FOOD#TASTE'}]}\n",
      "{'text': \"room without power plug point , hair dryer , water boiler , safe box and even tissue . They don ' t have any queen size bed as well . people were friend but all yr request then will not care . its very small and the wifi is totally suck here .\", 'Quadruples': [{'aspect': 'room', 'polarity': 'NEG', 'opinion': 'not with power plug point', 'category': 'ROOM#GENERAL'}, {'aspect': 'power plug point', 'polarity': 'NEG', 'opinion': 'no', 'category': 'FACILITY#GENERAL'}, {'aspect': 'hair dryer', 'polarity': 'NEG', 'opinion': 'no', 'category': 'ROOM#BATHROOM'}, {'aspect': 'water boiler', 'polarity': 'NEG', 'opinion': 'no', 'category': 'ROOM#BATHROOM'}, {'aspect': 'safe box', 'polarity': 'NEG', 'opinion': 'no', 'category': 'ROOM#BATHROOM'}, {'aspect': 'tissue', 'polarity': 'NEG', 'opinion': 'friend', 'category': 'ROOM#BATHROOM'}, {'aspect': 'people', 'polarity': 'NEG', 'opinion': 'not care', 'category': 'SERVICE#HOSPITALITY'}]}\n",
      "{'text': 'The accomodation was great given the price 30 $ per night i got from booking . com . the hotel was clean and two swiming pools to cool off the bali heat . The location - seminyak is great , great for a chilled out people . Very close Peti ( something ) and seminyak beach a taxi will offset you less than 3 $ .', 'Quadruples': [{'aspect': 'accomodation', 'polarity': 'POS', 'opinion': 'great', 'category': 'HOTEL#GENERAL'}, {'aspect': 'price', 'polarity': 'POS', 'opinion': '30 $ per night', 'category': 'HOTEL#PRICE'}, {'aspect': 'hotel', 'polarity': 'POS', 'opinion': 'clean', 'category': 'HOTEL#CLEANLINESS'}, {'aspect': 'swimming pools', 'polarity': 'POS', 'opinion': 'cool off the bali heat', 'category': 'FACILITY#POOL'}, {'aspect': 'location', 'polarity': 'POS', 'opinion': 'great', 'category': 'LOCATION#GENERAL'}, {'aspect': 'seminyak beach', 'polarity': 'POS', 'opinion': 'close', 'category': 'LOCATION#ATTRACTIONS'}, {'aspect': 'taxi', 'polarity': 'POS', 'opinion': 'less than 3 $', 'category': 'SERVICE#HOSPITALITY'}]}\n",
      "{'text': 'We stayed at the Maharani with another five friends and had the best time . Staff great friendly and entertaining . Rooms light , airy and clean . They accommodated us by putting all our rooms together side by side . Great location on poppies lane 1 and beach across the road , short walk to markets and shopping . Would recommend a stay here as when we return will be staying again .', 'Quadruples': [{'aspect': 'location', 'polarity': 'POS', 'opinion': 'Great', 'category': 'LOCATION#GENERAL'}, {'aspect': 'Staff', 'polarity': 'POS', 'opinion': 'great', 'category': 'SERVICE#HOSPITALITY'}, {'aspect': 'Rooms', 'polarity': 'POS', 'opinion': 'light', 'category': 'ROOM#CLEANLINESS'}, {'aspect': 'location', 'polarity': 'POS', 'opinion': 'airy', 'category': 'ROOM#CLEANLINESS'}, {'aspect': 'markets', 'polarity': 'POS', 'opinion': 'clean', 'category': 'LOCATION#GENERAL'}, {'aspect': 'shopping', 'polarity': 'POS', 'opinion': 'Great', 'category': 'LOCATION#NEARBY_AMENITIES'}]}\n",
      "{'text': 'This is good hotel for you stay for a while in Singaraja if you find good and cheap hotel . The view is good near of the beach and it has 1 swimming pool . The bedroom is clean and service is good . But the parking is not large enough .', 'Quadruples': [{'aspect': 'view', 'polarity': 'POS', 'opinion': 'good', 'category': 'LOCATION#VIEW'}, {'aspect': 'beach', 'polarity': 'POS', 'opinion': 'near', 'category': 'LOCATION#ATTRACTIONS'}, {'aspect': 'bed', 'polarity': 'POS', 'opinion': 'clean', 'category': 'ROOM#BED'}, {'aspect': 'service', 'polarity': 'POS', 'opinion': 'good', 'category': 'SERVICE#HOSPITALITY'}, {'aspect': 'parking', 'polarity': 'NEG', 'opinion': 'not large enough', 'category': 'HOTEL#EXPERIENCE'}]}\n"
     ]
    }
   ],
   "source": [
    "for example in example:\n",
    "    result = generator.predict(example)"
   ]
  }
 ],
 "metadata": {
  "kernelspec": {
   "display_name": "venv",
   "language": "python",
   "name": "python3"
  },
  "language_info": {
   "codemirror_mode": {
    "name": "ipython",
    "version": 3
   },
   "file_extension": ".py",
   "mimetype": "text/x-python",
   "name": "python",
   "nbconvert_exporter": "python",
   "pygments_lexer": "ipython3",
   "version": "3.9.13"
  }
 },
 "nbformat": 4,
 "nbformat_minor": 2
}
