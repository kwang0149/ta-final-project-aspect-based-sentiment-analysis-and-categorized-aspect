{
 "cells": [
  {
   "cell_type": "code",
   "execution_count": 5,
   "metadata": {},
   "outputs": [
    {
     "name": "stdout",
     "output_type": "stream",
     "text": [
      "                                              Review\n",
      "0  It is so calm and quiet. Best place to relax a...\n",
      "1  There is nothing not to like. This place is pe...\n",
      "2       Location is good, but food is very expensive\n",
      "3                                     expensive food\n",
      "4  The whole of the resort lived up to its name a...\n"
     ]
    }
   ],
   "source": [
    "import json\n",
    "import pandas as pd\n",
    "\n",
    "# Extract liked and disliked parts of reviews where the original language is English (None)\n",
    "reviews_data = []\n",
    "with open('dataset_booking-reviews-scraper_2024-07-10_07-51-51-620.json', 'r') as file:\n",
    "    reviews_json = json.load(file)\n",
    "for review in reviews_json:\n",
    "    liked = review[\"reviewTextParts\"].get(\"Liked\", \"\")\n",
    "    disliked = review[\"reviewTextParts\"].get(\"Disliked\", \"\")\n",
    "    if liked:\n",
    "        reviews_data.append({\"Review\": liked})\n",
    "    if disliked:\n",
    "        reviews_data.append({\"Review\": disliked})\n",
    "\n",
    "# Create a DataFrame and save to CSV\n",
    "df = pd.DataFrame(reviews_data)\n",
    "df.to_csv(\"model_implement_reviews.csv\", index=False)\n",
    "\n",
    "# Display the DataFrame\n",
    "print(df.head())"
   ]
  },
  {
   "cell_type": "code",
   "execution_count": 2,
   "metadata": {},
   "outputs": [
    {
     "data": {
      "text/plain": [
       "[]"
      ]
     },
     "execution_count": 2,
     "metadata": {},
     "output_type": "execute_result"
    }
   ],
   "source": [
    "review_list"
   ]
  },
  {
   "cell_type": "code",
   "execution_count": null,
   "metadata": {},
   "outputs": [],
   "source": []
  }
 ],
 "metadata": {
  "kernelspec": {
   "display_name": "env-absa",
   "language": "python",
   "name": "env-absa"
  },
  "language_info": {
   "codemirror_mode": {
    "name": "ipython",
    "version": 3
   },
   "file_extension": ".py",
   "mimetype": "text/x-python",
   "name": "python",
   "nbconvert_exporter": "python",
   "pygments_lexer": "ipython3",
   "version": "3.12.2"
  }
 },
 "nbformat": 4,
 "nbformat_minor": 2
}
