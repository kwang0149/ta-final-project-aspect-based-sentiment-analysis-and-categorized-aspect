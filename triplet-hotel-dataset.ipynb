{
 "cells": [
  {
   "cell_type": "code",
   "execution_count": 1,
   "metadata": {},
   "outputs": [],
   "source": [
    "import json\n",
    "\n",
    "# Assuming your data is stored in a file named 'data.jsonl'\n",
    "input_filename = 'hotel-data.jsonl'\n",
    "output_filename = 'triplet-hotel-data.jsonl'\n",
    "\n",
    "with open(input_filename, 'r') as file:\n",
    "    lines = file.readlines()\n",
    "\n",
    "with open(output_filename, 'w') as file:\n",
    "    for line in lines:\n",
    "        data = json.loads(line)\n",
    "        modified_labels = []\n",
    "        for label in data[\"labels\"]:\n",
    "            modified_label = {key: value for key, value in label.items() if key != \"category\"}\n",
    "            modified_labels.append(modified_label)\n",
    "        data[\"labels\"] = modified_labels\n",
    "        file.write(json.dumps(data) + '\\n')"
   ]
  },
  {
   "cell_type": "code",
   "execution_count": null,
   "metadata": {},
   "outputs": [],
   "source": []
  }
 ],
 "metadata": {
  "kernelspec": {
   "display_name": "venv-absa-3.9",
   "language": "python",
   "name": "python3"
  },
  "language_info": {
   "codemirror_mode": {
    "name": "ipython",
    "version": 3
   },
   "file_extension": ".py",
   "mimetype": "text/x-python",
   "name": "python",
   "nbconvert_exporter": "python",
   "pygments_lexer": "ipython3",
   "version": "3.9.13"
  }
 },
 "nbformat": 4,
 "nbformat_minor": 2
}
