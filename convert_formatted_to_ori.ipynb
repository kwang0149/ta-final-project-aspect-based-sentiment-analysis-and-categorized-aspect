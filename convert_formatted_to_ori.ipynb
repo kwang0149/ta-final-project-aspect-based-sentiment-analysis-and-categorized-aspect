{
 "cells": [
  {
   "cell_type": "code",
   "execution_count": 12,
   "metadata": {},
   "outputs": [
    {
     "name": "stdout",
     "output_type": "stream",
     "text": [
      "Requirement already satisfied: jsonlines in c:\\users\\hongk\\documents\\github\\ta-final-project-aspect-based-sentiment-analysis-and-categorized-aspect\\venv-absa-3.9\\lib\\site-packages (4.0.0)\n",
      "Requirement already satisfied: attrs>=19.2.0 in c:\\users\\hongk\\documents\\github\\ta-final-project-aspect-based-sentiment-analysis-and-categorized-aspect\\venv-absa-3.9\\lib\\site-packages (from jsonlines) (23.2.0)\n",
      "Note: you may need to restart the kernel to use updated packages.\n"
     ]
    }
   ],
   "source": [
    "pip install jsonlines"
   ]
  },
  {
   "cell_type": "code",
   "execution_count": 13,
   "metadata": {},
   "outputs": [],
   "source": [
    "import json\n",
    "import jsonlines"
   ]
  },
  {
   "cell_type": "code",
   "execution_count": 16,
   "metadata": {},
   "outputs": [],
   "source": [
    "def format_jsonl_to_single_line(file_path):\n",
    "    formatted_lines = []\n",
    "    with open(file_path, 'r') as file:\n",
    "        for line in file:\n",
    "            try:\n",
    "                json_object = json.loads(line.strip())\n",
    "                formatted_json = json.dumps(json_object)\n",
    "                formatted_lines.append(formatted_json)\n",
    "            except json.JSONDecodeError as e:\n",
    "                print(f\"Error decoding JSON: {e}\")\n",
    "                continue\n",
    "    return formatted_lines"
   ]
  },
  {
   "cell_type": "code",
   "execution_count": 5,
   "metadata": {},
   "outputs": [
    {
     "ename": "FileNotFoundError",
     "evalue": "[Errno 2] No such file or directory: 'exp_formatted_data.jsonl'",
     "output_type": "error",
     "traceback": [
      "\u001b[1;31m---------------------------------------------------------------------------\u001b[0m",
      "\u001b[1;31mFileNotFoundError\u001b[0m                         Traceback (most recent call last)",
      "Cell \u001b[1;32mIn[5], line 3\u001b[0m\n\u001b[0;32m      1\u001b[0m \u001b[38;5;66;03m# Example usage:\u001b[39;00m\n\u001b[0;32m      2\u001b[0m file_path \u001b[38;5;241m=\u001b[39m \u001b[38;5;124m\"\u001b[39m\u001b[38;5;124mexp_formatted_data.jsonl\u001b[39m\u001b[38;5;124m\"\u001b[39m\n\u001b[1;32m----> 3\u001b[0m formatted_json_objects \u001b[38;5;241m=\u001b[39m \u001b[43mformat_jsonl_to_single_line\u001b[49m\u001b[43m(\u001b[49m\u001b[43mfile_path\u001b[49m\u001b[43m)\u001b[49m\n\u001b[0;32m      4\u001b[0m \u001b[38;5;28;01mfor\u001b[39;00m json_object \u001b[38;5;129;01min\u001b[39;00m formatted_json_objects:\n\u001b[0;32m      5\u001b[0m     \u001b[38;5;28mprint\u001b[39m(json_object)\n",
      "Cell \u001b[1;32mIn[4], line 3\u001b[0m, in \u001b[0;36mformat_jsonl_to_single_line\u001b[1;34m(file_path)\u001b[0m\n\u001b[0;32m      1\u001b[0m \u001b[38;5;28;01mdef\u001b[39;00m \u001b[38;5;21mformat_jsonl_to_single_line\u001b[39m(file_path):\n\u001b[0;32m      2\u001b[0m     formatted_lines \u001b[38;5;241m=\u001b[39m []\n\u001b[1;32m----> 3\u001b[0m     \u001b[38;5;28;01mwith\u001b[39;00m \u001b[38;5;28;43mopen\u001b[39;49m\u001b[43m(\u001b[49m\u001b[43mfile_path\u001b[49m\u001b[43m,\u001b[49m\u001b[43m \u001b[49m\u001b[38;5;124;43m'\u001b[39;49m\u001b[38;5;124;43mr\u001b[39;49m\u001b[38;5;124;43m'\u001b[39;49m\u001b[43m)\u001b[49m \u001b[38;5;28;01mas\u001b[39;00m file:\n\u001b[0;32m      4\u001b[0m         \u001b[38;5;28;01mfor\u001b[39;00m line \u001b[38;5;129;01min\u001b[39;00m file:\n\u001b[0;32m      5\u001b[0m             \u001b[38;5;28;01mtry\u001b[39;00m:\n",
      "File \u001b[1;32mc:\\Users\\hongk\\Documents\\GitHub\\ta-final-project-aspect-based-sentiment-analysis-and-categorized-aspect\\venv-absa-3.9\\lib\\site-packages\\IPython\\core\\interactiveshell.py:310\u001b[0m, in \u001b[0;36m_modified_open\u001b[1;34m(file, *args, **kwargs)\u001b[0m\n\u001b[0;32m    303\u001b[0m \u001b[38;5;28;01mif\u001b[39;00m file \u001b[38;5;129;01min\u001b[39;00m {\u001b[38;5;241m0\u001b[39m, \u001b[38;5;241m1\u001b[39m, \u001b[38;5;241m2\u001b[39m}:\n\u001b[0;32m    304\u001b[0m     \u001b[38;5;28;01mraise\u001b[39;00m \u001b[38;5;167;01mValueError\u001b[39;00m(\n\u001b[0;32m    305\u001b[0m         \u001b[38;5;124mf\u001b[39m\u001b[38;5;124m\"\u001b[39m\u001b[38;5;124mIPython won\u001b[39m\u001b[38;5;124m'\u001b[39m\u001b[38;5;124mt let you open fd=\u001b[39m\u001b[38;5;132;01m{\u001b[39;00mfile\u001b[38;5;132;01m}\u001b[39;00m\u001b[38;5;124m by default \u001b[39m\u001b[38;5;124m\"\u001b[39m\n\u001b[0;32m    306\u001b[0m         \u001b[38;5;124m\"\u001b[39m\u001b[38;5;124mas it is likely to crash IPython. If you know what you are doing, \u001b[39m\u001b[38;5;124m\"\u001b[39m\n\u001b[0;32m    307\u001b[0m         \u001b[38;5;124m\"\u001b[39m\u001b[38;5;124myou can use builtins\u001b[39m\u001b[38;5;124m'\u001b[39m\u001b[38;5;124m open.\u001b[39m\u001b[38;5;124m\"\u001b[39m\n\u001b[0;32m    308\u001b[0m     )\n\u001b[1;32m--> 310\u001b[0m \u001b[38;5;28;01mreturn\u001b[39;00m io_open(file, \u001b[38;5;241m*\u001b[39margs, \u001b[38;5;241m*\u001b[39m\u001b[38;5;241m*\u001b[39mkwargs)\n",
      "\u001b[1;31mFileNotFoundError\u001b[0m: [Errno 2] No such file or directory: 'exp_formatted_data.jsonl'"
     ]
    }
   ],
   "source": [
    "# Example usage:\n",
    "file_path = \"exp_formatted_data.jsonl\"\n",
    "formatted_json_objects = format_jsonl_to_single_line(file_path)\n",
    "for json_object in formatted_json_objects:\n",
    "    print(json_object)"
   ]
  },
  {
   "cell_type": "code",
   "execution_count": 22,
   "metadata": {},
   "outputs": [],
   "source": [
    "import json\n",
    "\n",
    "# Open the input JSONL file\n",
    "with open(\"formatted-data-02-06-24.jsonl\", \"r\") as infile:\n",
    "    # Open a new file for writing theS formatted JSONL data\n",
    "    with open(\"output_formatted_2_03-06-24.jsonl\", \"w\") as outfile:\n",
    "        # Initialize a variable to store the current JSON object\n",
    "        current_object = \"\"\n",
    "        # Iterate through each line in the input file\n",
    "        for line in infile:\n",
    "            # Strip leading and trailing whitespaces from the line\n",
    "            line = line.strip()\n",
    "\n",
    "            # If the line is not empty, add it to the current JSON object\n",
    "            if not line.endswith(\"]}\"):\n",
    "                current_object += line\n",
    "            # If the line is empty, it marks the end of the current JSON object\n",
    "            else:\n",
    "                current_object += line\n",
    "                # If the current object is not empty, write it to the output file\n",
    "                if current_object:\n",
    "                    outfile.write(current_object + \"\\n\")\n",
    "                    # Reset the current object for the next iteration\n",
    "                    current_object = \"\"\n",
    "\n",
    "        # Write the last JSON object to the output file if it exists\n",
    "        if current_object:\n",
    "            outfile.write(current_object + \"\\n\")\n"
   ]
  }
 ],
 "metadata": {
  "kernelspec": {
   "display_name": "venv-absa-3.9",
   "language": "python",
   "name": "python3"
  },
  "language_info": {
   "codemirror_mode": {
    "name": "ipython",
    "version": 3
   },
   "file_extension": ".py",
   "mimetype": "text/x-python",
   "name": "python",
   "nbconvert_exporter": "python",
   "pygments_lexer": "ipython3",
   "version": "3.9.13"
  }
 },
 "nbformat": 4,
 "nbformat_minor": 2
}
