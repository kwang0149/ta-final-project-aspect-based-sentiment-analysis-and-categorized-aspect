{
 "cells": [
  {
   "cell_type": "code",
   "execution_count": 11,
   "metadata": {},
   "outputs": [
    {
     "name": "stdout",
     "output_type": "stream",
     "text": [
      "Collecting jsonlines\n",
      "  Downloading jsonlines-4.0.0-py3-none-any.whl.metadata (1.6 kB)\n",
      "Requirement already satisfied: attrs>=19.2.0 in /Users/kwang/Documents/GitHub/PyABSA/env-absa/lib/python3.12/site-packages (from jsonlines) (23.2.0)\n",
      "Downloading jsonlines-4.0.0-py3-none-any.whl (8.7 kB)\n",
      "Installing collected packages: jsonlines\n",
      "Successfully installed jsonlines-4.0.0\n",
      "Note: you may need to restart the kernel to use updated packages.\n"
     ]
    }
   ],
   "source": [
    "pip install jsonlines"
   ]
  },
  {
   "cell_type": "code",
   "execution_count": 12,
   "metadata": {},
   "outputs": [],
   "source": [
    "import json\n",
    "import jsonlines"
   ]
  },
  {
   "cell_type": "code",
   "execution_count": 16,
   "metadata": {},
   "outputs": [],
   "source": [
    "def format_jsonl_to_single_line(file_path):\n",
    "    formatted_lines = []\n",
    "    with open(file_path, 'r') as file:\n",
    "        for line in file:\n",
    "            try:\n",
    "                json_object = json.loads(line.strip())\n",
    "                formatted_json = json.dumps(json_object)\n",
    "                formatted_lines.append(formatted_json)\n",
    "            except json.JSONDecodeError as e:\n",
    "                print(f\"Error decoding JSON: {e}\")\n",
    "                continue\n",
    "    return formatted_lines"
   ]
  },
  {
   "cell_type": "code",
   "execution_count": 17,
   "metadata": {},
   "outputs": [
    {
     "name": "stdout",
     "output_type": "stream",
     "text": [
      "Error decoding JSON: Expecting property name enclosed in double quotes: line 1 column 217 (char 216)\n",
      "Error decoding JSON: Extra data: line 1 column 9 (char 8)\n",
      "Error decoding JSON: Extra data: line 1 column 92 (char 91)\n",
      "Error decoding JSON: Extra data: line 1 column 97 (char 96)\n",
      "Error decoding JSON: Extra data: line 1 column 97 (char 96)\n",
      "Error decoding JSON: Extra data: line 1 column 93 (char 92)\n",
      "Error decoding JSON: Extra data: line 1 column 96 (char 95)\n",
      "Error decoding JSON: Extra data: line 1 column 91 (char 90)\n",
      "Error decoding JSON: Extra data: line 1 column 91 (char 90)\n",
      "Error decoding JSON: Extra data: line 1 column 91 (char 90)\n",
      "Error decoding JSON: Extra data: line 1 column 97 (char 96)\n",
      "Error decoding JSON: Extra data: line 1 column 98 (char 97)\n"
     ]
    }
   ],
   "source": [
    "# Example usage:\n",
    "file_path = \"exp_formatted_data.jsonl\"\n",
    "formatted_json_objects = format_jsonl_to_single_line(file_path)\n",
    "for json_object in formatted_json_objects:\n",
    "    print(json_object)"
   ]
  },
  {
   "cell_type": "code",
   "execution_count": 33,
   "metadata": {},
   "outputs": [],
   "source": [
    "import json\n",
    "\n",
    "# Open the input JSONL file\n",
    "with open(\"formatted_data_hotel_3.jsonl\", \"r\") as infile:\n",
    "    # Open a new file for writing theS formatted JSONL data\n",
    "    with open(\"output_formatted.jsonl\", \"w\") as outfile:\n",
    "        # Initialize a variable to store the current JSON object\n",
    "        current_object = \"\"\n",
    "        # Iterate through each line in the input file\n",
    "        for line in infile:\n",
    "            # Strip leading and trailing whitespaces from the line\n",
    "            line = line.strip()\n",
    "\n",
    "            # If the line is not empty, add it to the current JSON object\n",
    "            if not line.endswith(\"]}\"):\n",
    "                current_object += line\n",
    "            # If the line is empty, it marks the end of the current JSON object\n",
    "            else:\n",
    "                current_object += line\n",
    "                # If the current object is not empty, write it to the output file\n",
    "                if current_object:\n",
    "                    outfile.write(current_object + \"\\n\")\n",
    "                    # Reset the current object for the next iteration\n",
    "                    current_object = \"\"\n",
    "\n",
    "        # Write the last JSON object to the output file if it exists\n",
    "        if current_object:\n",
    "            outfile.write(current_object + \"\\n\")\n"
   ]
  }
 ],
 "metadata": {
  "kernelspec": {
   "display_name": "env-absa",
   "language": "python",
   "name": "env-absa"
  },
  "language_info": {
   "codemirror_mode": {
    "name": "ipython",
    "version": 3
   },
   "file_extension": ".py",
   "mimetype": "text/x-python",
   "name": "python",
   "nbconvert_exporter": "python",
   "pygments_lexer": "ipython3",
   "version": "3.12.2"
  }
 },
 "nbformat": 4,
 "nbformat_minor": 2
}
